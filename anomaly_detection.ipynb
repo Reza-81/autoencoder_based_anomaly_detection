{
 "cells": [
  {
   "cell_type": "code",
   "execution_count": null,
   "metadata": {
    "id": "pSlqLULGGD1t"
   },
   "outputs": [],
   "source": [
    "import pandas as pd\n",
    "import glob\n",
    "import numpy as np\n",
    "import datetime\n",
    "import matplotlib.pyplot as plt\n",
    "import statsmodels\n",
    "import tensorflow as tf\n",
    "from datetime import timedelta, date, datetime\n",
    "import warnings\n",
    "from sklearn.preprocessing import normalize\n",
    "from sklearn.metrics import accuracy_score, precision_score, recall_score"
   ]
  },
  {
   "cell_type": "markdown",
   "metadata": {
    "id": "tzdoFsd3NRX5"
   },
   "source": [
    "# define functions\n"
   ]
  },
  {
   "cell_type": "markdown",
   "metadata": {
    "id": "k7A2IMtif79d"
   },
   "source": [
    "## plot series"
   ]
  },
  {
   "cell_type": "code",
   "execution_count": null,
   "metadata": {
    "id": "Wpo1S0UfRyoc"
   },
   "outputs": [],
   "source": [
    "def plot_series(time, series, format=\"-\", start=0, end=None):\n",
    "    \"\"\"\n",
    "    Visualizes time series data\n",
    "\n",
    "    Args:\n",
    "      time (array of int) - contains the time steps\n",
    "      series (array of int) - contains the measurements for each time step\n",
    "      format - line style when plotting the graph\n",
    "      label - tag for the line\n",
    "      start - first time step to plot\n",
    "      end - last time step to plot\n",
    "    \"\"\"\n",
    "\n",
    "    # Setup dimensions of the graph figure\n",
    "    plt.figure(figsize=(10, 6))\n",
    "\n",
    "    if type(series) is tuple:\n",
    "\n",
    "      for series_num in series:\n",
    "        # Plot the time series data\n",
    "        plt.plot(time[start:end], series_num[start:end], format)\n",
    "\n",
    "    else:\n",
    "      # Plot the time series data\n",
    "      plt.plot(time[start:end], series[start:end], format)\n",
    "\n",
    "    # Label the x-axis\n",
    "    plt.xlabel(\"Time\")\n",
    "\n",
    "    # Label the y-axis\n",
    "    plt.ylabel(\"Value\")\n",
    "\n",
    "    # Overlay a grid on the graph\n",
    "    plt.grid(True)\n",
    "\n",
    "    # Draw the graph on screen\n",
    "    plt.show()"
   ]
  },
  {
   "cell_type": "markdown",
   "metadata": {
    "id": "4RNL2yigf_HO"
   },
   "source": [
    "## windowed dataset"
   ]
  },
  {
   "cell_type": "code",
   "execution_count": null,
   "metadata": {
    "id": "4sTTIOCbyShY"
   },
   "outputs": [],
   "source": [
    "def create_dataset(series, batch_size, shuffle_buffer):\n",
    "    \"\"\"Generates dataset\n",
    "\n",
    "    Args:\n",
    "      series (array of float) - contains the values of the time series\n",
    "      batch_size (int) - the batch size\n",
    "      shuffle_buffer(int) - buffer size to use for the shuffle method\n",
    "\n",
    "    Returns:\n",
    "      dataset (TF Dataset) - TF Dataset containing time series as inputs and outputs\n",
    "    \"\"\"\n",
    "\n",
    "    # Convert the array into a TensorFlow dataset\n",
    "    dataset = tf.data.Dataset.from_tensor_slices((series, series))\n",
    "\n",
    "    # Optionally shuffle and batch the dataset\n",
    "    dataset = dataset.shuffle(shuffle_buffer).batch(batch_size).prefetch(1)\n",
    "\n",
    "    return dataset"
   ]
  },
  {
   "cell_type": "markdown",
   "metadata": {
    "id": "jpmnCzmbgDLJ"
   },
   "source": [
    "## model forecast"
   ]
  },
  {
   "cell_type": "code",
   "execution_count": null,
   "metadata": {
    "id": "alQKPuu5r11f"
   },
   "outputs": [],
   "source": [
    "def model_forecast(model, series, forcaste_size, window_size, batch_size):\n",
    "    \"\"\"Uses an input model to generate predictions on data windows\n",
    "\n",
    "    Args:\n",
    "      model (TF Keras Model) - model that accepts data windows\n",
    "      series (array of float) - contains the values of the time series\n",
    "      window_size (int) - the number of time steps to include in the window\n",
    "      batch_size (int) - the batch size\n",
    "\n",
    "    Returns:\n",
    "      forecast (numpy array) - array containing predictions\n",
    "    \"\"\"\n",
    "\n",
    "    # Generate a TF Dataset from the series values\n",
    "    dataset = tf.data.Dataset.from_tensor_slices(series)\n",
    "\n",
    "    # Window the data but only take those with the specified size\n",
    "    dataset = dataset.window(window_size, shift=forcaste_size, drop_remainder=True)\n",
    "\n",
    "    # Flatten the windows by putting its elements in a single batch\n",
    "    dataset = dataset.flat_map(lambda w: w.batch(window_size))\n",
    "\n",
    "    # Create batches of windows\n",
    "    dataset = dataset.batch(batch_size).prefetch(1)\n",
    "\n",
    "    # Get predictions on the entire dataset\n",
    "    forecast = model.predict(dataset)\n",
    "\n",
    "    return forecast"
   ]
  },
  {
   "cell_type": "markdown",
   "metadata": {
    "id": "0W9yWFOTKje6"
   },
   "source": [
    "## plot loss"
   ]
  },
  {
   "cell_type": "code",
   "execution_count": null,
   "metadata": {
    "id": "WT1xrJWWKiiJ"
   },
   "outputs": [],
   "source": [
    "def plot_loss(epoches, train_loss, val_loss=None, start=0):\n",
    "    if val_loss:\n",
    "        # Create subplots\n",
    "        fig, (ax1, ax2) = plt.subplots(1, 2, figsize=(12, 4))  # 1 row, 2 columns\n",
    "\n",
    "        # Plot the first data on the first subplot\n",
    "        ax1.plot(range(start, epoches), train_loss[start:], 'b', label='Training Loss')\n",
    "\n",
    "        # Plot the second data on the second subplot\n",
    "        ax2.plot(range(start, epoches), val_loss[start:], 'b', label='validation Loss')\n",
    "\n",
    "        # Customize the plots if needed\n",
    "        ax1.set_title('Training Loss')\n",
    "        ax1.set_xlabel('epoches')\n",
    "        ax1.set_ylabel('error')\n",
    "        ax1.legend()\n",
    "\n",
    "        ax2.set_title('validation Loss')\n",
    "        ax2.set_xlabel('epoches')\n",
    "        ax2.set_ylabel('error')\n",
    "        ax2.legend()\n",
    "\n",
    "        # Adjust layout to prevent overlapping\n",
    "        plt.tight_layout()\n",
    "\n",
    "    else:\n",
    "        # Plot all but the first n\n",
    "        plt.plot(range(start, epoches), train_loss[start:], 'b', label='Training Loss')\n",
    "\n",
    "    # Display the plots\n",
    "    plt.show()"
   ]
  },
  {
   "cell_type": "markdown",
   "metadata": {
    "id": "EyQydsGWgGHt"
   },
   "source": [
    "## normalize data"
   ]
  },
  {
   "cell_type": "code",
   "execution_count": null,
   "metadata": {
    "id": "H-TzSaAes3fG"
   },
   "outputs": [],
   "source": [
    "def normalize_data(data):\n",
    "    \"\"\" scale each row (observation) between 0 and 1\n",
    "    \"\"\"\n",
    "\n",
    "    min_values = np.min(data, axis=1, keepdims=True)\n",
    "    max_values = np.max(data, axis=1, keepdims=True)\n",
    "    scaled_data = (data - min_values) / (max_values - min_values + 0.000000000001)\n",
    "\n",
    "    return scaled_data"
   ]
  },
  {
   "cell_type": "markdown",
   "metadata": {
    "id": "jZJAbWKuMocE"
   },
   "source": [
    "## downsampling function"
   ]
  },
  {
   "cell_type": "code",
   "execution_count": null,
   "metadata": {
    "id": "olVjNpkQMraa"
   },
   "outputs": [],
   "source": [
    "def downsampling(data, downsample_factor, take_mean=False):\n",
    "    if take_mean:\n",
    "        return np.mean(data[:, :data.shape[1] // downsample_factor * downsample_factor].reshape(data.shape[0], -1, downsample_factor), axis=2)\n",
    "    return data[:, ::downsample_factor]"
   ]
  },
  {
   "cell_type": "markdown",
   "metadata": {
    "id": "5Wse0DzNsz45"
   },
   "source": [
    "## anomaly detection"
   ]
  },
  {
   "cell_type": "code",
   "execution_count": 1,
   "metadata": {
    "id": "__oGDcm0rWR4"
   },
   "outputs": [],
   "source": [
    "def detection(model, data, threshold):\n",
    "    reconstructions = model(data)\n",
    "    loss = tf.keras.losses.mse(reconstructions, data)\n",
    "    return loss > threshold"
   ]
  },
  {
   "cell_type": "markdown",
   "metadata": {
    "id": "LAZjoJYhs3lJ"
   },
   "source": [
    "## show prediction status"
   ]
  },
  {
   "cell_type": "code",
   "execution_count": null,
   "metadata": {
    "id": "JURlswdTs4FZ"
   },
   "outputs": [],
   "source": [
    "def print_stats(predictions, labels):\n",
    "  print(\"Accuracy = {}\".format(accuracy_score(labels, predictions)))\n",
    "  print(\"Precision = {}\".format(precision_score(labels, predictions)))\n",
    "  print(\"Recall = {}\".format(recall_score(labels, predictions)))"
   ]
  },
  {
   "cell_type": "markdown",
   "metadata": {
    "id": "mkMrN5Co-1rN"
   },
   "source": [
    "# download dataset from kaggle"
   ]
  },
  {
   "cell_type": "code",
   "execution_count": null,
   "metadata": {
    "colab": {
     "base_uri": "https://localhost:8080/"
    },
    "id": "xr3xEcWE_C3C",
    "outputId": "13235471-1c63-4bf3-ab6f-d7bcac922f7c"
   },
   "outputs": [
    {
     "name": "stdout",
     "output_type": "stream",
     "text": [
      "Mounted at /content/drive\n"
     ]
    }
   ],
   "source": [
    "from google.colab import drive\n",
    "drive.mount('/content/drive')"
   ]
  },
  {
   "cell_type": "code",
   "execution_count": null,
   "metadata": {
    "colab": {
     "base_uri": "https://localhost:8080/"
    },
    "id": "Ux3UB4UN-lBJ",
    "outputId": "c0656f45-8edd-4916-d415-751deda43e6f"
   },
   "outputs": [
    {
     "name": "stdout",
     "output_type": "stream",
     "text": [
      "Downloading anomaly-detection-in-helicopter.zip to /content\n",
      "100% 622M/624M [00:32<00:00, 21.7MB/s]\n",
      "100% 624M/624M [00:32<00:00, 20.0MB/s]\n",
      "Archive:  /content/anomaly-detection-in-helicopter.zip\n",
      "  inflating: dfvalid_groundtruth.csv  \n",
      "  inflating: train_df.csv            \n",
      "  inflating: validation_df.csv       \n"
     ]
    }
   ],
   "source": [
    "! pip install -q kaggle\n",
    "\n",
    "! mkdir ~/.kaggle\n",
    "\n",
    "! cp /content/drive/MyDrive/ai_projects/kaggle.json ~/.kaggle\n",
    "\n",
    "! chmod 600  ~/.kaggle/kaggle.json\n",
    "\n",
    "! kaggle datasets download nagasai524/anomaly-detection-in-helicopter\n",
    "\n",
    "! unzip /content/anomaly-detection-in-helicopter.zip"
   ]
  },
  {
   "cell_type": "markdown",
   "metadata": {
    "id": "Z5Zj_GtfEKiq"
   },
   "source": [
    "# Exploratory data analysis"
   ]
  },
  {
   "cell_type": "markdown",
   "metadata": {
    "id": "C_31a_ljwT3e"
   },
   "source": [
    "## labels"
   ]
  },
  {
   "cell_type": "code",
   "execution_count": null,
   "metadata": {
    "id": "irAw6yaOrlDs"
   },
   "outputs": [],
   "source": [
    "labels = pd.read_csv('dfvalid_groundtruth.csv')['anomaly'].to_numpy()"
   ]
  },
  {
   "cell_type": "markdown",
   "metadata": {
    "id": "ABaey-BJKVT4"
   },
   "source": [
    "## train dataset"
   ]
  },
  {
   "cell_type": "code",
   "execution_count": null,
   "metadata": {
    "id": "CPfg7CZdZsU3"
   },
   "outputs": [],
   "source": [
    "train_series = pd.read_csv('train_df.csv', index_col=0, low_memory=False).to_numpy()"
   ]
  },
  {
   "cell_type": "code",
   "execution_count": null,
   "metadata": {
    "colab": {
     "base_uri": "https://localhost:8080/",
     "height": 542
    },
    "id": "Zd01ei9haohO",
    "outputId": "1ebc7486-e25f-4b5f-8388-59b5f41aa602"
   },
   "outputs": [
    {
     "data": {
      "image/png": "[encoded data removed]",
      "text/plain": [
       "<Figure size 1000x600 with 1 Axes>"
      ]
     },
     "metadata": {},
     "output_type": "display_data"
    }
   ],
   "source": [
    "plot_series(np.arange(train_series.shape[1]), train_series[2])"
   ]
  },
  {
   "cell_type": "markdown",
   "metadata": {
    "id": "r4kjQUuiKZGo"
   },
   "source": [
    "## validation dataset"
   ]
  },
  {
   "cell_type": "code",
   "execution_count": null,
   "metadata": {
    "id": "93jFo1ZeI9YM"
   },
   "outputs": [],
   "source": [
    "val_series = pd.read_csv('validation_df.csv', index_col=0, low_memory=False).to_numpy()"
   ]
  },
  {
   "cell_type": "code",
   "execution_count": null,
   "metadata": {
    "colab": {
     "base_uri": "https://localhost:8080/",
     "height": 547
    },
    "id": "gRMFzz6GJG3Q",
    "outputId": "3561106e-014d-4aaa-8cdf-0ea07519c430"
   },
   "outputs": [
    {
     "data": {
      "image/png": "[encoded data removed]",
      "text/plain": [
       "<Figure size 1000x600 with 1 Axes>"
      ]
     },
     "metadata": {},
     "output_type": "display_data"
    }
   ],
   "source": [
    "# abnormal observation\n",
    "plot_series(np.arange(val_series.shape[1]), val_series[5])"
   ]
  },
  {
   "cell_type": "markdown",
   "metadata": {
    "id": "s9iLZ1OUP2Pg"
   },
   "source": [
    "#  prepare tensorflow dataset and features"
   ]
  },
  {
   "cell_type": "markdown",
   "metadata": {
    "id": "lhyAFr35d5aV"
   },
   "source": [
    "## downsampling"
   ]
  },
  {
   "cell_type": "code",
   "execution_count": null,
   "metadata": {
    "id": "GH4HcdJwebRm"
   },
   "outputs": [],
   "source": [
    "train_series_sampled = downsampling(train_series, 10, take_mean=True)\n",
    "val_series_sampled = downsampling(val_series, 10, take_mean=True)"
   ]
  },
  {
   "cell_type": "code",
   "execution_count": null,
   "metadata": {
    "colab": {
     "base_uri": "https://localhost:8080/",
     "height": 542
    },
    "id": "eJBxpTSRi5bz",
    "outputId": "a0dbcbd5-aef9-4784-d16e-0a0219d1d7a8"
   },
   "outputs": [
    {
     "data": {
      "image/png": "[encoded data removed]",
      "text/plain": [
       "<Figure size 1000x600 with 1 Axes>"
      ]
     },
     "metadata": {},
     "output_type": "display_data"
    }
   ],
   "source": [
    "plot_series(np.arange(train_series_sampled.shape[1]), train_series_sampled[0])"
   ]
  },
  {
   "cell_type": "code",
   "execution_count": null,
   "metadata": {
    "colab": {
     "base_uri": "https://localhost:8080/",
     "height": 542
    },
    "id": "Y27pv1W1j0vb",
    "outputId": "ace27417-1e3f-4c51-8454-27fdad1d159b"
   },
   "outputs": [
    {
     "data": {
      "image/png": "[encoded data removed]",
      "text/plain": [
       "<Figure size 1000x600 with 1 Axes>"
      ]
     },
     "metadata": {},
     "output_type": "display_data"
    }
   ],
   "source": [
    "plot_series(np.arange(val_series_sampled.shape[1]), val_series_sampled[5])"
   ]
  },
  {
   "cell_type": "code",
   "execution_count": null,
   "metadata": {
    "colab": {
     "base_uri": "https://localhost:8080/"
    },
    "id": "T_07YLhziAbk",
    "outputId": "473e10bf-ff1f-4fad-aa99-de2d1a0db7bc"
   },
   "outputs": [
    {
     "data": {
      "text/plain": [
       "(1677, 6144)"
      ]
     },
     "execution_count": 23,
     "metadata": {},
     "output_type": "execute_result"
    }
   ],
   "source": [
    "train_series_sampled.shape"
   ]
  },
  {
   "cell_type": "code",
   "execution_count": null,
   "metadata": {
    "colab": {
     "base_uri": "https://localhost:8080/"
    },
    "id": "WGMNisGyj-Py",
    "outputId": "b3b3c3a2-1c8a-40c3-bfa5-b2695b44940a"
   },
   "outputs": [
    {
     "data": {
      "text/plain": [
       "(594, 6144)"
      ]
     },
     "execution_count": 24,
     "metadata": {},
     "output_type": "execute_result"
    }
   ],
   "source": [
    "val_series_sampled.shape"
   ]
  },
  {
   "cell_type": "markdown",
   "metadata": {
    "id": "XH-0FgXN6zHA"
   },
   "source": [
    "## Prepare Features and Labels"
   ]
  },
  {
   "cell_type": "code",
   "execution_count": null,
   "metadata": {
    "id": "AyBwNWO1FVTS"
   },
   "outputs": [],
   "source": [
    "# Parameters\n",
    "batch_size = 256\n",
    "shuffle_buffer_size = 1000\n",
    "\n",
    "# Generate the dataset windows\n",
    "train_dataset = create_dataset(train_series_sampled, batch_size, shuffle_buffer_size)"
   ]
  },
  {
   "cell_type": "markdown",
   "metadata": {
    "id": "ths8EcjQ7CG3"
   },
   "source": [
    "# Build the Model"
   ]
  },
  {
   "cell_type": "code",
   "execution_count": null,
   "metadata": {
    "colab": {
     "base_uri": "https://localhost:8080/"
    },
    "id": "014gK64AOA8A",
    "outputId": "326adc3f-e955-481b-d28e-abb7f13d9a17"
   },
   "outputs": [
    {
     "name": "stdout",
     "output_type": "stream",
     "text": [
      "Model: \"sequential\"\n",
      "_________________________________________________________________\n",
      " Layer (type)                Output Shape              Param #   \n",
      "=================================================================\n",
      " dense (Dense)               (None, 6144)              37754880  \n",
      "                                                                 \n",
      " dense_1 (Dense)             (None, 128)               786560    \n",
      "                                                                 \n",
      " dense_2 (Dense)             (None, 64)                8256      \n",
      "                                                                 \n",
      " dense_3 (Dense)             (None, 32)                2080      \n",
      "                                                                 \n",
      " dense_4 (Dense)             (None, 16)                528       \n",
      "                                                                 \n",
      " dense_5 (Dense)             (None, 32)                544       \n",
      "                                                                 \n",
      " dense_6 (Dense)             (None, 64)                2112      \n",
      "                                                                 \n",
      " dense_7 (Dense)             (None, 128)               8320      \n",
      "                                                                 \n",
      " dense_8 (Dense)             (None, 6144)              792576    \n",
      "                                                                 \n",
      "=================================================================\n",
      "Total params: 39355856 (150.13 MB)\n",
      "Trainable params: 39355856 (150.13 MB)\n",
      "Non-trainable params: 0 (0.00 Byte)\n",
      "_________________________________________________________________\n",
      "None\n"
     ]
    }
   ],
   "source": [
    "# Reset states generated by Keras\n",
    "tf.keras.backend.clear_session()\n",
    "\n",
    "# Build the model\n",
    "model = tf.keras.models.Sequential([\n",
    "      tf.keras.layers.Dense(train_series_sampled.shape[1], input_shape=(train_series_sampled.shape[1], ))\n",
    "    , tf.keras.layers.Dense(128\n",
    "                        # , kernel_regularizer=tf.keras.regularizers.l2(0.00001)\n",
    "                        )\n",
    "    , tf.keras.layers.Dense(64\n",
    "                        # , kernel_regularizer=tf.keras.regularizers.l2(0.00001)\n",
    "                        )\n",
    "    , tf.keras.layers.Dense(32\n",
    "                        # , kernel_regularizer=tf.keras.regularizers.l2(0.00001)\n",
    "                        )\n",
    "    , tf.keras.layers.Dense(16\n",
    "                        # , kernel_regularizer=tf.keras.regularizers.l2(0.00001)\n",
    "                        )\n",
    "    , tf.keras.layers.Dense(32\n",
    "                        # , kernel_regularizer=tf.keras.regularizers.l2(0.00001)\n",
    "                        )\n",
    "    , tf.keras.layers.Dense(64\n",
    "                        # , kernel_regularizer=tf.keras.regularizers.l2(0.00001)\n",
    "                        )\n",
    "    , tf.keras.layers.Dense(128\n",
    "                        # , kernel_regularizer=tf.keras.regularizers.l2(0.00001)\n",
    "                        )\n",
    "    , tf.keras.layers.Dense(train_series_sampled.shape[1])\n",
    "])\n",
    "\n",
    "# Print the model summary\n",
    "print(model.summary())\n",
    "\n",
    "# compile model with specified parameters\n",
    "model.compile(\n",
    "                  # loss=tf.keras.losses.Huber(),\n",
    "                loss = 'mse',\n",
    "                  optimizer=tf.keras.optimizers.Adam(learning_rate=1e-4)\n",
    "                 )"
   ]
  },
  {
   "cell_type": "markdown",
   "metadata": {
    "id": "4xWDKTGR7XQd"
   },
   "source": [
    "## Train the Model"
   ]
  },
  {
   "cell_type": "code",
   "execution_count": null,
   "metadata": {
    "colab": {
     "base_uri": "https://localhost:8080/"
    },
    "id": "zqVlvuneFqJz",
    "outputId": "5d5370eb-eb74-468e-b4fc-b7afe6d7a0eb"
   },
   "outputs": [
    {
     "name": "stdout",
     "output_type": "stream",
     "text": [
      "Epoch 1/500\n",
      "7/7 [==============================] - 4s 37ms/step - loss: 0.1772\n",
      "Epoch 2/500\n",
      "7/7 [==============================] - 0s 33ms/step - loss: 0.1855\n",
      "Epoch 3/500\n",
      "7/7 [==============================] - 0s 31ms/step - loss: 0.1695\n",
      "Epoch 4/500\n",
      "7/7 [==============================] - 0s 29ms/step - loss: 0.1652\n",
      "Epoch 5/500\n",
      "7/7 [==============================] - 0s 29ms/step - loss: 0.1608\n",
      "Epoch 6/500\n",
      "7/7 [==============================] - 0s 30ms/step - loss: 0.1584\n",
      "Epoch 7/500\n",
      "7/7 [==============================] - 0s 29ms/step - loss: 0.1560\n",
      "Epoch 8/500\n",
      "7/7 [==============================] - 0s 29ms/step - loss: 0.1511\n",
      "Epoch 9/500\n",
      "7/7 [==============================] - 0s 29ms/step - loss: 0.1471\n",
      "Epoch 10/500\n",
      "7/7 [==============================] - 0s 29ms/step - loss: 0.1441\n",
      "Epoch 11/500\n",
      "7/7 [==============================] - 0s 29ms/step - loss: 0.1430\n",
      "Epoch 12/500\n",
      "7/7 [==============================] - 0s 29ms/step - loss: 0.1423\n",
      "Epoch 13/500\n",
      "7/7 [==============================] - 0s 28ms/step - loss: 0.1419\n",
      "Epoch 14/500\n",
      "7/7 [==============================] - 0s 30ms/step - loss: 0.1415\n",
      "Epoch 15/500\n",
      "7/7 [==============================] - 0s 38ms/step - loss: 0.1408\n",
      "Epoch 16/500\n",
      "7/7 [==============================] - 0s 39ms/step - loss: 0.1402\n",
      "Epoch 17/500\n",
      "7/7 [==============================] - 0s 30ms/step - loss: 0.1396\n",
      "Epoch 18/500\n",
      "7/7 [==============================] - 0s 28ms/step - loss: 0.1395\n",
      "Epoch 19/500\n",
      "7/7 [==============================] - 0s 30ms/step - loss: 0.1387\n",
      "Epoch 20/500\n",
      "7/7 [==============================] - 0s 32ms/step - loss: 0.1381\n",
      "Epoch 21/500\n",
      "7/7 [==============================] - 0s 38ms/step - loss: 0.1377\n",
      "Epoch 22/500\n",
      "7/7 [==============================] - 0s 34ms/step - loss: 0.1370\n",
      "Epoch 23/500\n",
      "7/7 [==============================] - 0s 40ms/step - loss: 0.1363\n",
      "Epoch 24/500\n",
      "7/7 [==============================] - 0s 37ms/step - loss: 0.1358\n",
      "Epoch 25/500\n",
      "7/7 [==============================] - 0s 37ms/step - loss: 0.1349\n",
      "Epoch 26/500\n",
      "7/7 [==============================] - 0s 37ms/step - loss: 0.1341\n",
      "Epoch 27/500\n",
      "7/7 [==============================] - 0s 48ms/step - loss: 0.1333\n",
      "Epoch 28/500\n",
      "7/7 [==============================] - 0s 49ms/step - loss: 0.1325\n",
      "Epoch 29/500\n",
      "7/7 [==============================] - 0s 41ms/step - loss: 0.1316\n",
      "Epoch 30/500\n",
      "7/7 [==============================] - 0s 44ms/step - loss: 0.1309\n",
      "Epoch 31/500\n",
      "7/7 [==============================] - 0s 39ms/step - loss: 0.1300\n",
      "Epoch 32/500\n",
      "7/7 [==============================] - 0s 43ms/step - loss: 0.1291\n",
      "Epoch 33/500\n",
      "7/7 [==============================] - 0s 50ms/step - loss: 0.1282\n",
      "Epoch 34/500\n",
      "7/7 [==============================] - 0s 45ms/step - loss: 0.1275\n",
      "Epoch 35/500\n",
      "7/7 [==============================] - 0s 42ms/step - loss: 0.1284\n",
      "Epoch 36/500\n",
      "7/7 [==============================] - 0s 38ms/step - loss: 0.1282\n",
      "Epoch 37/500\n",
      "7/7 [==============================] - 0s 37ms/step - loss: 0.1274\n",
      "Epoch 38/500\n",
      "7/7 [==============================] - 0s 43ms/step - loss: 0.1261\n",
      "Epoch 39/500\n",
      "7/7 [==============================] - 0s 40ms/step - loss: 0.1252\n",
      "Epoch 40/500\n",
      "7/7 [==============================] - 0s 40ms/step - loss: 0.1253\n",
      "Epoch 41/500\n",
      "7/7 [==============================] - 0s 40ms/step - loss: 0.1253\n",
      "Epoch 42/500\n",
      "7/7 [==============================] - 0s 38ms/step - loss: 0.1229\n",
      "Epoch 43/500\n",
      "7/7 [==============================] - 0s 41ms/step - loss: 0.1219\n",
      "Epoch 44/500\n",
      "7/7 [==============================] - 0s 36ms/step - loss: 0.1210\n",
      "Epoch 45/500\n",
      "7/7 [==============================] - 0s 37ms/step - loss: 0.1203\n",
      "Epoch 46/500\n",
      "7/7 [==============================] - 0s 40ms/step - loss: 0.1200\n",
      "Epoch 47/500\n",
      "7/7 [==============================] - 0s 48ms/step - loss: 0.1201\n",
      "Epoch 48/500\n",
      "7/7 [==============================] - 0s 46ms/step - loss: 0.1195\n",
      "Epoch 49/500\n",
      "7/7 [==============================] - 0s 57ms/step - loss: 0.1211\n",
      "Epoch 50/500\n",
      "7/7 [==============================] - 0s 48ms/step - loss: 0.1212\n",
      "Epoch 51/500\n",
      "7/7 [==============================] - 0s 52ms/step - loss: 0.1191\n",
      "Epoch 52/500\n",
      "7/7 [==============================] - 0s 61ms/step - loss: 0.1175\n",
      "Epoch 53/500\n",
      "7/7 [==============================] - 1s 87ms/step - loss: 0.1169\n",
      "Epoch 54/500\n",
      "7/7 [==============================] - 0s 59ms/step - loss: 0.1168\n",
      "Epoch 55/500\n",
      "7/7 [==============================] - 0s 70ms/step - loss: 0.1161\n",
      "Epoch 56/500\n",
      "7/7 [==============================] - 0s 67ms/step - loss: 0.1162\n",
      "Epoch 57/500\n",
      "7/7 [==============================] - 1s 70ms/step - loss: 0.1160\n",
      "Epoch 58/500\n",
      "7/7 [==============================] - 0s 63ms/step - loss: 0.1158\n",
      "Epoch 59/500\n",
      "7/7 [==============================] - 1s 73ms/step - loss: 0.1169\n",
      "Epoch 60/500\n",
      "7/7 [==============================] - 1s 71ms/step - loss: 0.1144\n",
      "Epoch 61/500\n",
      "7/7 [==============================] - 0s 64ms/step - loss: 0.1149\n",
      "Epoch 62/500\n",
      "7/7 [==============================] - 0s 67ms/step - loss: 0.1136\n",
      "Epoch 63/500\n",
      "7/7 [==============================] - 0s 60ms/step - loss: 0.1134\n",
      "Epoch 64/500\n",
      "7/7 [==============================] - 0s 61ms/step - loss: 0.1131\n",
      "Epoch 65/500\n",
      "7/7 [==============================] - 0s 50ms/step - loss: 0.1127\n",
      "Epoch 66/500\n",
      "7/7 [==============================] - 0s 61ms/step - loss: 0.1124\n",
      "Epoch 67/500\n",
      "7/7 [==============================] - 0s 61ms/step - loss: 0.1122\n",
      "Epoch 68/500\n",
      "7/7 [==============================] - 0s 62ms/step - loss: 0.1121\n",
      "Epoch 69/500\n",
      "7/7 [==============================] - 1s 66ms/step - loss: 0.1119\n",
      "Epoch 70/500\n",
      "7/7 [==============================] - 0s 54ms/step - loss: 0.1117\n",
      "Epoch 71/500\n",
      "7/7 [==============================] - 1s 75ms/step - loss: 0.1116\n",
      "Epoch 72/500\n",
      "7/7 [==============================] - 0s 56ms/step - loss: 0.1115\n",
      "Epoch 73/500\n",
      "7/7 [==============================] - 0s 69ms/step - loss: 0.1113\n",
      "Epoch 74/500\n",
      "7/7 [==============================] - 0s 59ms/step - loss: 0.1112\n",
      "Epoch 75/500\n",
      "7/7 [==============================] - 1s 73ms/step - loss: 0.1112\n",
      "Epoch 76/500\n",
      "7/7 [==============================] - 1s 75ms/step - loss: 0.1111\n",
      "Epoch 77/500\n",
      "7/7 [==============================] - 1s 105ms/step - loss: 0.1111\n",
      "Epoch 78/500\n",
      "7/7 [==============================] - 0s 56ms/step - loss: 0.1109\n",
      "Epoch 79/500\n",
      "7/7 [==============================] - 0s 54ms/step - loss: 0.1107\n",
      "Epoch 80/500\n",
      "7/7 [==============================] - 0s 52ms/step - loss: 0.1107\n",
      "Epoch 81/500\n",
      "7/7 [==============================] - 0s 48ms/step - loss: 0.1107\n",
      "Epoch 82/500\n",
      "7/7 [==============================] - 0s 56ms/step - loss: 0.1105\n",
      "Epoch 83/500\n",
      "7/7 [==============================] - 0s 39ms/step - loss: 0.1105\n",
      "Epoch 84/500\n",
      "7/7 [==============================] - 0s 41ms/step - loss: 0.1105\n",
      "Epoch 85/500\n",
      "7/7 [==============================] - 0s 39ms/step - loss: 0.1104\n",
      "Epoch 86/500\n",
      "7/7 [==============================] - 0s 33ms/step - loss: 0.1104\n",
      "Epoch 87/500\n",
      "7/7 [==============================] - 0s 37ms/step - loss: 0.1103\n",
      "Epoch 88/500\n",
      "7/7 [==============================] - 0s 38ms/step - loss: 0.1103\n",
      "Epoch 89/500\n",
      "7/7 [==============================] - 0s 39ms/step - loss: 0.1102\n",
      "Epoch 90/500\n",
      "7/7 [==============================] - 0s 42ms/step - loss: 0.1101\n",
      "Epoch 91/500\n",
      "7/7 [==============================] - 0s 44ms/step - loss: 0.1100\n",
      "Epoch 92/500\n",
      "7/7 [==============================] - 0s 45ms/step - loss: 0.1100\n",
      "Epoch 93/500\n",
      "7/7 [==============================] - 0s 47ms/step - loss: 0.1100\n",
      "Epoch 94/500\n",
      "7/7 [==============================] - 0s 36ms/step - loss: 0.1100\n",
      "Epoch 95/500\n",
      "7/7 [==============================] - 0s 36ms/step - loss: 0.1105\n",
      "Epoch 96/500\n",
      "7/7 [==============================] - 0s 39ms/step - loss: 0.1105\n",
      "Epoch 97/500\n",
      "7/7 [==============================] - 0s 35ms/step - loss: 0.1101\n",
      "Epoch 98/500\n",
      "7/7 [==============================] - 0s 36ms/step - loss: 0.1100\n",
      "Epoch 99/500\n",
      "7/7 [==============================] - 0s 37ms/step - loss: 0.1098\n",
      "Epoch 100/500\n",
      "7/7 [==============================] - 0s 38ms/step - loss: 0.1097\n",
      "Epoch 101/500\n",
      "7/7 [==============================] - 0s 39ms/step - loss: 0.1097\n",
      "Epoch 102/500\n",
      "7/7 [==============================] - 0s 40ms/step - loss: 0.1097\n",
      "Epoch 103/500\n",
      "7/7 [==============================] - 0s 40ms/step - loss: 0.1096\n",
      "Epoch 104/500\n",
      "7/7 [==============================] - 0s 39ms/step - loss: 0.1097\n",
      "Epoch 105/500\n",
      "7/7 [==============================] - 0s 43ms/step - loss: 0.1097\n",
      "Epoch 106/500\n",
      "7/7 [==============================] - 0s 44ms/step - loss: 0.1096\n",
      "Epoch 107/500\n",
      "7/7 [==============================] - 0s 36ms/step - loss: 0.1095\n",
      "Epoch 108/500\n",
      "7/7 [==============================] - 0s 39ms/step - loss: 0.1094\n",
      "Epoch 109/500\n",
      "7/7 [==============================] - 0s 39ms/step - loss: 0.1094\n",
      "Epoch 110/500\n",
      "7/7 [==============================] - 0s 40ms/step - loss: 0.1095\n",
      "Epoch 111/500\n",
      "7/7 [==============================] - 0s 39ms/step - loss: 0.1094\n",
      "Epoch 112/500\n",
      "7/7 [==============================] - 0s 41ms/step - loss: 0.1094\n",
      "Epoch 113/500\n",
      "7/7 [==============================] - 0s 42ms/step - loss: 0.1093\n",
      "Epoch 114/500\n",
      "7/7 [==============================] - 0s 42ms/step - loss: 0.1095\n",
      "Epoch 115/500\n",
      "7/7 [==============================] - 0s 40ms/step - loss: 0.1095\n",
      "Epoch 116/500\n",
      "7/7 [==============================] - 0s 45ms/step - loss: 0.1093\n",
      "Epoch 117/500\n",
      "7/7 [==============================] - 0s 43ms/step - loss: 0.1093\n",
      "Epoch 118/500\n",
      "7/7 [==============================] - 0s 44ms/step - loss: 0.1093\n",
      "Epoch 119/500\n",
      "7/7 [==============================] - 0s 41ms/step - loss: 0.1092\n",
      "Epoch 120/500\n",
      "7/7 [==============================] - 0s 42ms/step - loss: 0.1092\n",
      "Epoch 121/500\n",
      "7/7 [==============================] - 0s 44ms/step - loss: 0.1092\n",
      "Epoch 122/500\n",
      "7/7 [==============================] - 0s 45ms/step - loss: 0.1092\n",
      "Epoch 123/500\n",
      "7/7 [==============================] - 0s 42ms/step - loss: 0.1092\n",
      "Epoch 124/500\n",
      "7/7 [==============================] - 0s 42ms/step - loss: 0.1092\n",
      "Epoch 125/500\n",
      "7/7 [==============================] - 0s 52ms/step - loss: 0.1092\n",
      "Epoch 126/500\n",
      "7/7 [==============================] - 0s 45ms/step - loss: 0.1091\n",
      "Epoch 127/500\n",
      "7/7 [==============================] - 0s 42ms/step - loss: 0.1091\n",
      "Epoch 128/500\n",
      "7/7 [==============================] - 0s 53ms/step - loss: 0.1091\n",
      "Epoch 129/500\n",
      "7/7 [==============================] - 0s 52ms/step - loss: 0.1091\n",
      "Epoch 130/500\n",
      "7/7 [==============================] - 0s 44ms/step - loss: 0.1091\n",
      "Epoch 131/500\n",
      "7/7 [==============================] - 0s 45ms/step - loss: 0.1091\n",
      "Epoch 132/500\n",
      "7/7 [==============================] - 0s 49ms/step - loss: 0.1091\n",
      "Epoch 133/500\n",
      "7/7 [==============================] - 0s 48ms/step - loss: 0.1091\n",
      "Epoch 134/500\n",
      "7/7 [==============================] - 0s 46ms/step - loss: 0.1091\n",
      "Epoch 135/500\n",
      "7/7 [==============================] - 0s 50ms/step - loss: 0.1091\n",
      "Epoch 136/500\n",
      "7/7 [==============================] - 0s 50ms/step - loss: 0.1091\n",
      "Epoch 137/500\n",
      "7/7 [==============================] - 0s 50ms/step - loss: 0.1091\n",
      "Epoch 138/500\n",
      "7/7 [==============================] - 0s 48ms/step - loss: 0.1091\n",
      "Epoch 139/500\n",
      "7/7 [==============================] - 0s 47ms/step - loss: 0.1091\n",
      "Epoch 140/500\n",
      "7/7 [==============================] - 0s 46ms/step - loss: 0.1091\n",
      "Epoch 141/500\n",
      "7/7 [==============================] - 0s 51ms/step - loss: 0.1090\n",
      "Epoch 142/500\n",
      "7/7 [==============================] - 0s 48ms/step - loss: 0.1090\n",
      "Epoch 143/500\n",
      "7/7 [==============================] - 0s 46ms/step - loss: 0.1090\n",
      "Epoch 144/500\n",
      "7/7 [==============================] - 0s 48ms/step - loss: 0.1090\n",
      "Epoch 145/500\n",
      "7/7 [==============================] - 0s 44ms/step - loss: 0.1090\n",
      "Epoch 146/500\n",
      "7/7 [==============================] - 0s 44ms/step - loss: 0.1090\n",
      "Epoch 147/500\n",
      "7/7 [==============================] - 0s 48ms/step - loss: 0.1090\n",
      "Epoch 148/500\n",
      "7/7 [==============================] - 0s 44ms/step - loss: 0.1090\n",
      "Epoch 149/500\n",
      "7/7 [==============================] - 0s 48ms/step - loss: 0.1090\n",
      "Epoch 150/500\n",
      "7/7 [==============================] - 0s 47ms/step - loss: 0.1090\n",
      "Epoch 151/500\n",
      "7/7 [==============================] - 0s 45ms/step - loss: 0.1090\n",
      "Epoch 152/500\n",
      "7/7 [==============================] - 0s 49ms/step - loss: 0.1090\n",
      "Epoch 153/500\n",
      "7/7 [==============================] - 0s 46ms/step - loss: 0.1090\n",
      "Epoch 154/500\n",
      "7/7 [==============================] - 0s 46ms/step - loss: 0.1090\n",
      "Epoch 155/500\n",
      "7/7 [==============================] - 0s 49ms/step - loss: 0.1090\n",
      "Epoch 156/500\n",
      "7/7 [==============================] - 0s 46ms/step - loss: 0.1090\n",
      "Epoch 157/500\n",
      "7/7 [==============================] - 0s 45ms/step - loss: 0.1090\n",
      "Epoch 158/500\n",
      "7/7 [==============================] - 0s 43ms/step - loss: 0.1090\n",
      "Epoch 159/500\n",
      "7/7 [==============================] - 0s 43ms/step - loss: 0.1090\n",
      "Epoch 160/500\n",
      "7/7 [==============================] - 0s 42ms/step - loss: 0.1090\n",
      "Epoch 161/500\n",
      "7/7 [==============================] - 0s 39ms/step - loss: 0.1090\n",
      "Epoch 162/500\n",
      "7/7 [==============================] - 0s 43ms/step - loss: 0.1090\n",
      "Epoch 163/500\n",
      "7/7 [==============================] - 0s 43ms/step - loss: 0.1090\n",
      "Epoch 164/500\n",
      "7/7 [==============================] - 0s 41ms/step - loss: 0.1090\n",
      "Epoch 165/500\n",
      "7/7 [==============================] - 0s 43ms/step - loss: 0.1091\n",
      "Epoch 166/500\n",
      "7/7 [==============================] - 0s 46ms/step - loss: 0.1091\n",
      "Epoch 167/500\n",
      "7/7 [==============================] - 0s 45ms/step - loss: 0.1091\n",
      "Epoch 168/500\n",
      "7/7 [==============================] - 0s 43ms/step - loss: 0.1092\n",
      "Epoch 169/500\n",
      "7/7 [==============================] - 0s 42ms/step - loss: 0.1093\n",
      "Epoch 170/500\n",
      "7/7 [==============================] - 0s 47ms/step - loss: 0.1094\n",
      "Epoch 171/500\n",
      "7/7 [==============================] - 0s 46ms/step - loss: 0.1095\n",
      "Epoch 172/500\n",
      "7/7 [==============================] - 0s 45ms/step - loss: 0.1092\n",
      "Epoch 173/500\n",
      "7/7 [==============================] - 0s 46ms/step - loss: 0.1091\n",
      "Epoch 174/500\n",
      "7/7 [==============================] - 0s 47ms/step - loss: 0.1092\n",
      "Epoch 175/500\n",
      "7/7 [==============================] - 0s 46ms/step - loss: 0.1091\n",
      "Epoch 176/500\n",
      "7/7 [==============================] - 0s 43ms/step - loss: 0.1091\n",
      "Epoch 177/500\n",
      "7/7 [==============================] - 0s 38ms/step - loss: 0.1090\n",
      "Epoch 178/500\n",
      "7/7 [==============================] - 0s 43ms/step - loss: 0.1090\n",
      "Epoch 179/500\n",
      "7/7 [==============================] - 0s 40ms/step - loss: 0.1090\n",
      "Epoch 180/500\n",
      "7/7 [==============================] - 0s 40ms/step - loss: 0.1089\n",
      "Epoch 181/500\n",
      "7/7 [==============================] - 0s 38ms/step - loss: 0.1089\n",
      "Epoch 182/500\n",
      "7/7 [==============================] - 0s 37ms/step - loss: 0.1089\n",
      "Epoch 183/500\n",
      "7/7 [==============================] - 0s 39ms/step - loss: 0.1089\n",
      "Epoch 184/500\n",
      "7/7 [==============================] - 0s 43ms/step - loss: 0.1089\n",
      "Epoch 185/500\n",
      "7/7 [==============================] - 0s 46ms/step - loss: 0.1089\n",
      "Epoch 186/500\n",
      "7/7 [==============================] - 0s 40ms/step - loss: 0.1089\n",
      "Epoch 187/500\n",
      "7/7 [==============================] - 0s 40ms/step - loss: 0.1089\n",
      "Epoch 188/500\n",
      "7/7 [==============================] - 0s 39ms/step - loss: 0.1089\n",
      "Epoch 189/500\n",
      "7/7 [==============================] - 0s 41ms/step - loss: 0.1089\n",
      "Epoch 190/500\n",
      "7/7 [==============================] - 0s 38ms/step - loss: 0.1089\n",
      "Epoch 191/500\n",
      "7/7 [==============================] - 0s 38ms/step - loss: 0.1089\n",
      "Epoch 192/500\n",
      "7/7 [==============================] - 0s 43ms/step - loss: 0.1089\n",
      "Epoch 193/500\n",
      "7/7 [==============================] - 0s 41ms/step - loss: 0.1089\n",
      "Epoch 194/500\n",
      "7/7 [==============================] - 0s 42ms/step - loss: 0.1089\n",
      "Epoch 195/500\n",
      "7/7 [==============================] - 0s 38ms/step - loss: 0.1089\n",
      "Epoch 196/500\n",
      "7/7 [==============================] - 0s 39ms/step - loss: 0.1089\n",
      "Epoch 197/500\n",
      "7/7 [==============================] - 0s 47ms/step - loss: 0.1089\n",
      "Epoch 198/500\n",
      "7/7 [==============================] - 0s 37ms/step - loss: 0.1090\n",
      "Epoch 199/500\n",
      "7/7 [==============================] - 0s 32ms/step - loss: 0.1089\n",
      "Epoch 200/500\n",
      "7/7 [==============================] - 0s 31ms/step - loss: 0.1089\n",
      "Epoch 201/500\n",
      "7/7 [==============================] - 0s 30ms/step - loss: 0.1088\n",
      "Epoch 202/500\n",
      "7/7 [==============================] - 0s 29ms/step - loss: 0.1088\n",
      "Epoch 203/500\n",
      "7/7 [==============================] - 0s 29ms/step - loss: 0.1088\n",
      "Epoch 204/500\n",
      "7/7 [==============================] - 0s 29ms/step - loss: 0.1088\n",
      "Epoch 205/500\n",
      "7/7 [==============================] - 0s 29ms/step - loss: 0.1089\n",
      "Epoch 206/500\n",
      "7/7 [==============================] - 0s 29ms/step - loss: 0.1089\n",
      "Epoch 207/500\n",
      "7/7 [==============================] - 0s 28ms/step - loss: 0.1089\n",
      "Epoch 208/500\n",
      "7/7 [==============================] - 0s 31ms/step - loss: 0.1089\n",
      "Epoch 209/500\n",
      "7/7 [==============================] - 0s 28ms/step - loss: 0.1088\n",
      "Epoch 210/500\n",
      "7/7 [==============================] - 0s 29ms/step - loss: 0.1088\n",
      "Epoch 211/500\n",
      "7/7 [==============================] - 0s 28ms/step - loss: 0.1088\n",
      "Epoch 212/500\n",
      "7/7 [==============================] - 0s 27ms/step - loss: 0.1088\n",
      "Epoch 213/500\n",
      "7/7 [==============================] - 0s 29ms/step - loss: 0.1088\n",
      "Epoch 214/500\n",
      "7/7 [==============================] - 0s 31ms/step - loss: 0.1088\n",
      "Epoch 215/500\n",
      "7/7 [==============================] - 0s 30ms/step - loss: 0.1088\n",
      "Epoch 216/500\n",
      "7/7 [==============================] - 0s 30ms/step - loss: 0.1088\n",
      "Epoch 217/500\n",
      "7/7 [==============================] - 0s 30ms/step - loss: 0.1088\n",
      "Epoch 218/500\n",
      "7/7 [==============================] - 0s 32ms/step - loss: 0.1088\n",
      "Epoch 219/500\n",
      "7/7 [==============================] - 0s 30ms/step - loss: 0.1088\n",
      "Epoch 220/500\n",
      "7/7 [==============================] - 0s 29ms/step - loss: 0.1088\n",
      "Epoch 221/500\n",
      "7/7 [==============================] - 0s 28ms/step - loss: 0.1088\n",
      "Epoch 222/500\n",
      "7/7 [==============================] - 0s 29ms/step - loss: 0.1088\n",
      "Epoch 223/500\n",
      "7/7 [==============================] - 0s 29ms/step - loss: 0.1088\n",
      "Epoch 224/500\n",
      "7/7 [==============================] - 0s 29ms/step - loss: 0.1088\n",
      "Epoch 225/500\n",
      "7/7 [==============================] - 0s 30ms/step - loss: 0.1088\n",
      "Epoch 226/500\n",
      "7/7 [==============================] - 0s 31ms/step - loss: 0.1088\n",
      "Epoch 227/500\n",
      "7/7 [==============================] - 0s 29ms/step - loss: 0.1088\n",
      "Epoch 228/500\n",
      "7/7 [==============================] - 0s 29ms/step - loss: 0.1089\n",
      "Epoch 229/500\n",
      "7/7 [==============================] - 0s 29ms/step - loss: 0.1089\n",
      "Epoch 230/500\n",
      "7/7 [==============================] - 0s 31ms/step - loss: 0.1089\n",
      "Epoch 231/500\n",
      "7/7 [==============================] - 0s 27ms/step - loss: 0.1089\n",
      "Epoch 232/500\n",
      "7/7 [==============================] - 0s 29ms/step - loss: 0.1089\n",
      "Epoch 233/500\n",
      "7/7 [==============================] - 0s 29ms/step - loss: 0.1093\n",
      "Epoch 234/500\n",
      "7/7 [==============================] - 0s 31ms/step - loss: 0.1089\n",
      "Epoch 235/500\n",
      "7/7 [==============================] - 0s 30ms/step - loss: 0.1090\n",
      "Epoch 236/500\n",
      "7/7 [==============================] - 0s 29ms/step - loss: 0.1089\n",
      "Epoch 237/500\n",
      "7/7 [==============================] - 0s 30ms/step - loss: 0.1089\n",
      "Epoch 238/500\n",
      "7/7 [==============================] - 0s 29ms/step - loss: 0.1088\n",
      "Epoch 239/500\n",
      "7/7 [==============================] - 0s 32ms/step - loss: 0.1088\n",
      "Epoch 240/500\n",
      "7/7 [==============================] - 0s 36ms/step - loss: 0.1088\n",
      "Epoch 241/500\n",
      "7/7 [==============================] - 0s 34ms/step - loss: 0.1089\n",
      "Epoch 242/500\n",
      "7/7 [==============================] - 0s 37ms/step - loss: 0.1089\n",
      "Epoch 243/500\n",
      "7/7 [==============================] - 0s 35ms/step - loss: 0.1089\n",
      "Epoch 244/500\n",
      "7/7 [==============================] - 0s 37ms/step - loss: 0.1090\n",
      "Epoch 245/500\n",
      "7/7 [==============================] - 0s 37ms/step - loss: 0.1089\n",
      "Epoch 246/500\n",
      "7/7 [==============================] - 0s 35ms/step - loss: 0.1089\n",
      "Epoch 247/500\n",
      "7/7 [==============================] - 0s 36ms/step - loss: 0.1089\n",
      "Epoch 248/500\n",
      "7/7 [==============================] - 0s 36ms/step - loss: 0.1089\n",
      "Epoch 249/500\n",
      "7/7 [==============================] - 0s 43ms/step - loss: 0.1089\n",
      "Epoch 250/500\n",
      "7/7 [==============================] - 0s 38ms/step - loss: 0.1088\n",
      "Epoch 251/500\n",
      "7/7 [==============================] - 0s 42ms/step - loss: 0.1088\n",
      "Epoch 252/500\n",
      "7/7 [==============================] - 0s 39ms/step - loss: 0.1088\n",
      "Epoch 253/500\n",
      "7/7 [==============================] - 0s 41ms/step - loss: 0.1088\n",
      "Epoch 254/500\n",
      "7/7 [==============================] - 0s 41ms/step - loss: 0.1088\n",
      "Epoch 255/500\n",
      "7/7 [==============================] - 0s 42ms/step - loss: 0.1088\n",
      "Epoch 256/500\n",
      "7/7 [==============================] - 0s 40ms/step - loss: 0.1088\n",
      "Epoch 257/500\n",
      "7/7 [==============================] - 0s 37ms/step - loss: 0.1088\n",
      "Epoch 258/500\n",
      "7/7 [==============================] - 0s 40ms/step - loss: 0.1088\n",
      "Epoch 259/500\n",
      "7/7 [==============================] - 0s 38ms/step - loss: 0.1088\n",
      "Epoch 260/500\n",
      "7/7 [==============================] - 0s 40ms/step - loss: 0.1088\n",
      "Epoch 261/500\n",
      "7/7 [==============================] - 0s 38ms/step - loss: 0.1088\n",
      "Epoch 262/500\n",
      "7/7 [==============================] - 0s 38ms/step - loss: 0.1088\n",
      "Epoch 263/500\n",
      "7/7 [==============================] - 0s 41ms/step - loss: 0.1088\n",
      "Epoch 264/500\n",
      "7/7 [==============================] - 0s 40ms/step - loss: 0.1090\n",
      "Epoch 265/500\n",
      "7/7 [==============================] - 0s 42ms/step - loss: 0.1090\n",
      "Epoch 266/500\n",
      "7/7 [==============================] - 0s 40ms/step - loss: 0.1091\n",
      "Epoch 267/500\n",
      "7/7 [==============================] - 0s 38ms/step - loss: 0.1093\n",
      "Epoch 268/500\n",
      "7/7 [==============================] - 0s 41ms/step - loss: 0.1090\n",
      "Epoch 269/500\n",
      "7/7 [==============================] - 0s 38ms/step - loss: 0.1096\n",
      "Epoch 270/500\n",
      "7/7 [==============================] - 0s 37ms/step - loss: 0.1092\n",
      "Epoch 271/500\n",
      "7/7 [==============================] - 0s 44ms/step - loss: 0.1093\n",
      "Epoch 272/500\n",
      "7/7 [==============================] - 0s 44ms/step - loss: 0.1090\n",
      "Epoch 273/500\n",
      "7/7 [==============================] - 0s 40ms/step - loss: 0.1090\n",
      "Epoch 274/500\n",
      "7/7 [==============================] - 0s 41ms/step - loss: 0.1089\n",
      "Epoch 275/500\n",
      "7/7 [==============================] - 0s 38ms/step - loss: 0.1088\n",
      "Epoch 276/500\n",
      "7/7 [==============================] - 0s 42ms/step - loss: 0.1089\n",
      "Epoch 277/500\n",
      "7/7 [==============================] - 0s 49ms/step - loss: 0.1088\n",
      "Epoch 278/500\n",
      "7/7 [==============================] - 0s 40ms/step - loss: 0.1088\n",
      "Epoch 279/500\n",
      "7/7 [==============================] - 0s 42ms/step - loss: 0.1088\n",
      "Epoch 280/500\n",
      "7/7 [==============================] - 0s 40ms/step - loss: 0.1088\n",
      "Epoch 281/500\n",
      "7/7 [==============================] - 0s 44ms/step - loss: 0.1088\n",
      "Epoch 282/500\n",
      "7/7 [==============================] - 0s 41ms/step - loss: 0.1088\n",
      "Epoch 283/500\n",
      "7/7 [==============================] - 0s 42ms/step - loss: 0.1088\n",
      "Epoch 284/500\n",
      "7/7 [==============================] - 0s 44ms/step - loss: 0.1088\n",
      "Epoch 285/500\n",
      "7/7 [==============================] - 0s 37ms/step - loss: 0.1088\n",
      "Epoch 286/500\n",
      "7/7 [==============================] - 0s 45ms/step - loss: 0.1088\n",
      "Epoch 287/500\n",
      "7/7 [==============================] - 0s 41ms/step - loss: 0.1088\n",
      "Epoch 288/500\n",
      "7/7 [==============================] - 0s 44ms/step - loss: 0.1089\n",
      "Epoch 289/500\n",
      "7/7 [==============================] - 0s 40ms/step - loss: 0.1090\n",
      "Epoch 290/500\n",
      "7/7 [==============================] - 0s 39ms/step - loss: 0.1091\n",
      "Epoch 291/500\n",
      "7/7 [==============================] - 0s 41ms/step - loss: 0.1090\n",
      "Epoch 292/500\n",
      "7/7 [==============================] - 0s 40ms/step - loss: 0.1091\n",
      "Epoch 293/500\n",
      "7/7 [==============================] - 0s 41ms/step - loss: 0.1089\n",
      "Epoch 294/500\n",
      "7/7 [==============================] - 0s 42ms/step - loss: 0.1089\n",
      "Epoch 295/500\n",
      "7/7 [==============================] - 0s 38ms/step - loss: 0.1090\n",
      "Epoch 296/500\n",
      "7/7 [==============================] - 0s 39ms/step - loss: 0.1088\n",
      "Epoch 297/500\n",
      "7/7 [==============================] - 0s 40ms/step - loss: 0.1088\n",
      "Epoch 298/500\n",
      "7/7 [==============================] - 0s 41ms/step - loss: 0.1088\n",
      "Epoch 299/500\n",
      "7/7 [==============================] - 0s 37ms/step - loss: 0.1088\n",
      "Epoch 300/500\n",
      "7/7 [==============================] - 0s 37ms/step - loss: 0.1088\n",
      "Epoch 301/500\n",
      "7/7 [==============================] - 0s 39ms/step - loss: 0.1088\n",
      "Epoch 302/500\n",
      "7/7 [==============================] - 0s 38ms/step - loss: 0.1088\n",
      "Epoch 303/500\n",
      "7/7 [==============================] - 0s 43ms/step - loss: 0.1087\n",
      "Epoch 304/500\n",
      "7/7 [==============================] - 0s 40ms/step - loss: 0.1088\n",
      "Epoch 305/500\n",
      "7/7 [==============================] - 0s 42ms/step - loss: 0.1087\n",
      "Epoch 306/500\n",
      "7/7 [==============================] - 0s 41ms/step - loss: 0.1088\n",
      "Epoch 307/500\n",
      "7/7 [==============================] - 0s 39ms/step - loss: 0.1087\n",
      "Epoch 308/500\n",
      "7/7 [==============================] - 0s 42ms/step - loss: 0.1088\n",
      "Epoch 309/500\n",
      "7/7 [==============================] - 0s 37ms/step - loss: 0.1088\n",
      "Epoch 310/500\n",
      "7/7 [==============================] - 0s 43ms/step - loss: 0.1088\n",
      "Epoch 311/500\n",
      "7/7 [==============================] - 0s 38ms/step - loss: 0.1088\n",
      "Epoch 312/500\n",
      "7/7 [==============================] - 0s 40ms/step - loss: 0.1089\n",
      "Epoch 313/500\n",
      "7/7 [==============================] - 0s 40ms/step - loss: 0.1090\n",
      "Epoch 314/500\n",
      "7/7 [==============================] - 0s 42ms/step - loss: 0.1088\n",
      "Epoch 315/500\n",
      "7/7 [==============================] - 0s 45ms/step - loss: 0.1088\n",
      "Epoch 316/500\n",
      "7/7 [==============================] - 0s 37ms/step - loss: 0.1088\n",
      "Epoch 317/500\n",
      "7/7 [==============================] - 0s 36ms/step - loss: 0.1088\n",
      "Epoch 318/500\n",
      "7/7 [==============================] - 0s 43ms/step - loss: 0.1087\n",
      "Epoch 319/500\n",
      "7/7 [==============================] - 0s 41ms/step - loss: 0.1088\n",
      "Epoch 320/500\n",
      "7/7 [==============================] - 0s 40ms/step - loss: 0.1088\n",
      "Epoch 321/500\n",
      "7/7 [==============================] - 0s 43ms/step - loss: 0.1087\n",
      "Epoch 322/500\n",
      "7/7 [==============================] - 0s 35ms/step - loss: 0.1087\n",
      "Epoch 323/500\n",
      "7/7 [==============================] - 0s 29ms/step - loss: 0.1087\n",
      "Epoch 324/500\n",
      "7/7 [==============================] - 0s 33ms/step - loss: 0.1087\n",
      "Epoch 325/500\n",
      "7/7 [==============================] - 0s 32ms/step - loss: 0.1087\n",
      "Epoch 326/500\n",
      "7/7 [==============================] - 0s 35ms/step - loss: 0.1088\n",
      "Epoch 327/500\n",
      "7/7 [==============================] - 0s 33ms/step - loss: 0.1088\n",
      "Epoch 328/500\n",
      "7/7 [==============================] - 0s 28ms/step - loss: 0.1089\n",
      "Epoch 329/500\n",
      "7/7 [==============================] - 0s 29ms/step - loss: 0.1092\n",
      "Epoch 330/500\n",
      "7/7 [==============================] - 0s 30ms/step - loss: 0.1090\n",
      "Epoch 331/500\n",
      "7/7 [==============================] - 0s 30ms/step - loss: 0.1090\n",
      "Epoch 332/500\n",
      "7/7 [==============================] - 0s 29ms/step - loss: 0.1089\n",
      "Epoch 333/500\n",
      "7/7 [==============================] - 0s 29ms/step - loss: 0.1089\n",
      "Epoch 334/500\n",
      "7/7 [==============================] - 0s 28ms/step - loss: 0.1088\n",
      "Epoch 335/500\n",
      "7/7 [==============================] - 0s 29ms/step - loss: 0.1088\n",
      "Epoch 336/500\n",
      "7/7 [==============================] - 0s 29ms/step - loss: 0.1087\n",
      "Epoch 337/500\n",
      "7/7 [==============================] - 0s 29ms/step - loss: 0.1088\n",
      "Epoch 338/500\n",
      "7/7 [==============================] - 0s 30ms/step - loss: 0.1088\n",
      "Epoch 339/500\n",
      "7/7 [==============================] - 0s 29ms/step - loss: 0.1088\n",
      "Epoch 340/500\n",
      "7/7 [==============================] - 0s 31ms/step - loss: 0.1088\n",
      "Epoch 341/500\n",
      "7/7 [==============================] - 0s 30ms/step - loss: 0.1088\n",
      "Epoch 342/500\n",
      "7/7 [==============================] - 0s 28ms/step - loss: 0.1088\n",
      "Epoch 343/500\n",
      "7/7 [==============================] - 0s 29ms/step - loss: 0.1088\n",
      "Epoch 344/500\n",
      "7/7 [==============================] - 0s 29ms/step - loss: 0.1088\n",
      "Epoch 345/500\n",
      "7/7 [==============================] - 0s 31ms/step - loss: 0.1088\n",
      "Epoch 346/500\n",
      "7/7 [==============================] - 0s 31ms/step - loss: 0.1088\n",
      "Epoch 347/500\n",
      "7/7 [==============================] - 0s 31ms/step - loss: 0.1088\n",
      "Epoch 348/500\n",
      "7/7 [==============================] - 0s 29ms/step - loss: 0.1088\n",
      "Epoch 349/500\n",
      "7/7 [==============================] - 0s 30ms/step - loss: 0.1088\n",
      "Epoch 350/500\n",
      "7/7 [==============================] - 0s 30ms/step - loss: 0.1088\n",
      "Epoch 351/500\n",
      "7/7 [==============================] - 0s 31ms/step - loss: 0.1088\n",
      "Epoch 352/500\n",
      "7/7 [==============================] - 0s 31ms/step - loss: 0.1088\n",
      "Epoch 353/500\n",
      "7/7 [==============================] - 0s 28ms/step - loss: 0.1088\n",
      "Epoch 354/500\n",
      "7/7 [==============================] - 0s 29ms/step - loss: 0.1088\n",
      "Epoch 355/500\n",
      "7/7 [==============================] - 0s 29ms/step - loss: 0.1088\n",
      "Epoch 356/500\n",
      "7/7 [==============================] - 0s 30ms/step - loss: 0.1087\n",
      "Epoch 357/500\n",
      "7/7 [==============================] - 0s 30ms/step - loss: 0.1087\n",
      "Epoch 358/500\n",
      "7/7 [==============================] - 0s 30ms/step - loss: 0.1088\n",
      "Epoch 359/500\n",
      "7/7 [==============================] - 0s 30ms/step - loss: 0.1088\n",
      "Epoch 360/500\n",
      "7/7 [==============================] - 0s 30ms/step - loss: 0.1089\n",
      "Epoch 361/500\n",
      "7/7 [==============================] - 0s 29ms/step - loss: 0.1088\n",
      "Epoch 362/500\n",
      "7/7 [==============================] - 0s 37ms/step - loss: 0.1088\n",
      "Epoch 363/500\n",
      "7/7 [==============================] - 0s 34ms/step - loss: 0.1088\n",
      "Epoch 364/500\n",
      "7/7 [==============================] - 0s 38ms/step - loss: 0.1088\n",
      "Epoch 365/500\n",
      "7/7 [==============================] - 0s 36ms/step - loss: 0.1089\n",
      "Epoch 366/500\n",
      "7/7 [==============================] - 0s 36ms/step - loss: 0.1088\n",
      "Epoch 367/500\n",
      "7/7 [==============================] - 0s 35ms/step - loss: 0.1088\n",
      "Epoch 368/500\n",
      "7/7 [==============================] - 0s 39ms/step - loss: 0.1087\n",
      "Epoch 369/500\n",
      "7/7 [==============================] - 0s 37ms/step - loss: 0.1087\n",
      "Epoch 370/500\n",
      "7/7 [==============================] - 0s 38ms/step - loss: 0.1087\n",
      "Epoch 371/500\n",
      "7/7 [==============================] - 0s 36ms/step - loss: 0.1087\n",
      "Epoch 372/500\n",
      "7/7 [==============================] - 0s 41ms/step - loss: 0.1087\n",
      "Epoch 373/500\n",
      "7/7 [==============================] - 0s 44ms/step - loss: 0.1087\n",
      "Epoch 374/500\n",
      "7/7 [==============================] - 0s 40ms/step - loss: 0.1087\n",
      "Epoch 375/500\n",
      "7/7 [==============================] - 0s 36ms/step - loss: 0.1087\n",
      "Epoch 376/500\n",
      "7/7 [==============================] - 0s 42ms/step - loss: 0.1087\n",
      "Epoch 377/500\n",
      "7/7 [==============================] - 0s 39ms/step - loss: 0.1087\n",
      "Epoch 378/500\n",
      "7/7 [==============================] - 0s 43ms/step - loss: 0.1087\n",
      "Epoch 379/500\n",
      "7/7 [==============================] - 0s 57ms/step - loss: 0.1087\n",
      "Epoch 380/500\n",
      "7/7 [==============================] - 0s 64ms/step - loss: 0.1087\n",
      "Epoch 381/500\n",
      "7/7 [==============================] - 0s 45ms/step - loss: 0.1087\n",
      "Epoch 382/500\n",
      "7/7 [==============================] - 0s 40ms/step - loss: 0.1087\n",
      "Epoch 383/500\n",
      "7/7 [==============================] - 0s 41ms/step - loss: 0.1087\n",
      "Epoch 384/500\n",
      "7/7 [==============================] - 0s 38ms/step - loss: 0.1087\n",
      "Epoch 385/500\n",
      "7/7 [==============================] - 0s 41ms/step - loss: 0.1087\n",
      "Epoch 386/500\n",
      "7/7 [==============================] - 0s 39ms/step - loss: 0.1087\n",
      "Epoch 387/500\n",
      "7/7 [==============================] - 0s 43ms/step - loss: 0.1087\n",
      "Epoch 388/500\n",
      "7/7 [==============================] - 0s 42ms/step - loss: 0.1087\n",
      "Epoch 389/500\n",
      "7/7 [==============================] - 0s 40ms/step - loss: 0.1087\n",
      "Epoch 390/500\n",
      "7/7 [==============================] - 0s 42ms/step - loss: 0.1087\n",
      "Epoch 391/500\n",
      "7/7 [==============================] - 0s 42ms/step - loss: 0.1088\n",
      "Epoch 392/500\n",
      "7/7 [==============================] - 0s 37ms/step - loss: 0.1087\n",
      "Epoch 393/500\n",
      "7/7 [==============================] - 0s 44ms/step - loss: 0.1087\n",
      "Epoch 394/500\n",
      "7/7 [==============================] - 0s 41ms/step - loss: 0.1087\n",
      "Epoch 395/500\n",
      "7/7 [==============================] - 0s 41ms/step - loss: 0.1087\n",
      "Epoch 396/500\n",
      "7/7 [==============================] - 0s 46ms/step - loss: 0.1087\n",
      "Epoch 397/500\n",
      "7/7 [==============================] - 0s 47ms/step - loss: 0.1087\n",
      "Epoch 398/500\n",
      "7/7 [==============================] - 0s 37ms/step - loss: 0.1087\n",
      "Epoch 399/500\n",
      "7/7 [==============================] - 0s 46ms/step - loss: 0.1087\n",
      "Epoch 400/500\n",
      "7/7 [==============================] - 0s 39ms/step - loss: 0.1087\n",
      "Epoch 401/500\n",
      "7/7 [==============================] - 0s 41ms/step - loss: 0.1087\n",
      "Epoch 402/500\n",
      "7/7 [==============================] - 0s 36ms/step - loss: 0.1087\n",
      "Epoch 403/500\n",
      "7/7 [==============================] - 0s 40ms/step - loss: 0.1087\n",
      "Epoch 404/500\n",
      "7/7 [==============================] - 0s 35ms/step - loss: 0.1087\n",
      "Epoch 405/500\n",
      "7/7 [==============================] - 0s 45ms/step - loss: 0.1088\n",
      "Epoch 406/500\n",
      "7/7 [==============================] - 0s 37ms/step - loss: 0.1088\n",
      "Epoch 407/500\n",
      "7/7 [==============================] - 0s 41ms/step - loss: 0.1088\n",
      "Epoch 408/500\n",
      "7/7 [==============================] - 0s 41ms/step - loss: 0.1088\n",
      "Epoch 409/500\n",
      "7/7 [==============================] - 0s 38ms/step - loss: 0.1089\n",
      "Epoch 410/500\n",
      "7/7 [==============================] - 0s 38ms/step - loss: 0.1088\n",
      "Epoch 411/500\n",
      "7/7 [==============================] - 0s 41ms/step - loss: 0.1088\n",
      "Epoch 412/500\n",
      "7/7 [==============================] - 0s 43ms/step - loss: 0.1088\n",
      "Epoch 413/500\n",
      "7/7 [==============================] - 0s 40ms/step - loss: 0.1087\n",
      "Epoch 414/500\n",
      "7/7 [==============================] - 0s 37ms/step - loss: 0.1087\n",
      "Epoch 415/500\n",
      "7/7 [==============================] - 0s 37ms/step - loss: 0.1087\n",
      "Epoch 416/500\n",
      "7/7 [==============================] - 0s 42ms/step - loss: 0.1087\n",
      "Epoch 417/500\n",
      "7/7 [==============================] - 0s 42ms/step - loss: 0.1087\n",
      "Epoch 418/500\n",
      "7/7 [==============================] - 0s 42ms/step - loss: 0.1087\n",
      "Epoch 419/500\n",
      "7/7 [==============================] - 0s 42ms/step - loss: 0.1088\n",
      "Epoch 420/500\n",
      "7/7 [==============================] - 0s 47ms/step - loss: 0.1088\n",
      "Epoch 421/500\n",
      "7/7 [==============================] - 0s 38ms/step - loss: 0.1088\n",
      "Epoch 422/500\n",
      "7/7 [==============================] - 0s 39ms/step - loss: 0.1088\n",
      "Epoch 423/500\n",
      "7/7 [==============================] - 0s 37ms/step - loss: 0.1088\n",
      "Epoch 424/500\n",
      "7/7 [==============================] - 0s 42ms/step - loss: 0.1088\n",
      "Epoch 425/500\n",
      "7/7 [==============================] - 0s 46ms/step - loss: 0.1090\n",
      "Epoch 426/500\n",
      "7/7 [==============================] - 0s 37ms/step - loss: 0.1089\n",
      "Epoch 427/500\n",
      "7/7 [==============================] - 0s 38ms/step - loss: 0.1088\n",
      "Epoch 428/500\n",
      "7/7 [==============================] - 0s 46ms/step - loss: 0.1088\n",
      "Epoch 429/500\n",
      "7/7 [==============================] - 0s 47ms/step - loss: 0.1088\n",
      "Epoch 430/500\n",
      "7/7 [==============================] - 0s 38ms/step - loss: 0.1087\n",
      "Epoch 431/500\n",
      "7/7 [==============================] - 0s 39ms/step - loss: 0.1087\n",
      "Epoch 432/500\n",
      "7/7 [==============================] - 0s 42ms/step - loss: 0.1087\n",
      "Epoch 433/500\n",
      "7/7 [==============================] - 0s 36ms/step - loss: 0.1087\n",
      "Epoch 434/500\n",
      "7/7 [==============================] - 0s 41ms/step - loss: 0.1087\n",
      "Epoch 435/500\n",
      "7/7 [==============================] - 0s 40ms/step - loss: 0.1088\n",
      "Epoch 436/500\n",
      "7/7 [==============================] - 0s 39ms/step - loss: 0.1087\n",
      "Epoch 437/500\n",
      "7/7 [==============================] - 0s 38ms/step - loss: 0.1087\n",
      "Epoch 438/500\n",
      "7/7 [==============================] - 0s 39ms/step - loss: 0.1087\n",
      "Epoch 439/500\n",
      "7/7 [==============================] - 0s 39ms/step - loss: 0.1087\n",
      "Epoch 440/500\n",
      "7/7 [==============================] - 0s 44ms/step - loss: 0.1087\n",
      "Epoch 441/500\n",
      "7/7 [==============================] - 0s 38ms/step - loss: 0.1087\n",
      "Epoch 442/500\n",
      "7/7 [==============================] - 0s 33ms/step - loss: 0.1087\n",
      "Epoch 443/500\n",
      "7/7 [==============================] - 0s 31ms/step - loss: 0.1087\n",
      "Epoch 444/500\n",
      "7/7 [==============================] - 0s 31ms/step - loss: 0.1087\n",
      "Epoch 445/500\n",
      "7/7 [==============================] - 0s 29ms/step - loss: 0.1087\n",
      "Epoch 446/500\n",
      "7/7 [==============================] - 0s 28ms/step - loss: 0.1087\n",
      "Epoch 447/500\n",
      "7/7 [==============================] - 0s 33ms/step - loss: 0.1087\n",
      "Epoch 448/500\n",
      "7/7 [==============================] - 0s 30ms/step - loss: 0.1087\n",
      "Epoch 449/500\n",
      "7/7 [==============================] - 0s 32ms/step - loss: 0.1087\n",
      "Epoch 450/500\n",
      "7/7 [==============================] - 0s 31ms/step - loss: 0.1087\n",
      "Epoch 451/500\n",
      "7/7 [==============================] - 0s 32ms/step - loss: 0.1087\n",
      "Epoch 452/500\n",
      "7/7 [==============================] - 0s 30ms/step - loss: 0.1087\n",
      "Epoch 453/500\n",
      "7/7 [==============================] - 0s 31ms/step - loss: 0.1087\n",
      "Epoch 454/500\n",
      "7/7 [==============================] - 0s 31ms/step - loss: 0.1087\n",
      "Epoch 455/500\n",
      "7/7 [==============================] - 0s 29ms/step - loss: 0.1087\n",
      "Epoch 456/500\n",
      "7/7 [==============================] - 0s 29ms/step - loss: 0.1088\n",
      "Epoch 457/500\n",
      "7/7 [==============================] - 0s 28ms/step - loss: 0.1088\n",
      "Epoch 458/500\n",
      "7/7 [==============================] - 0s 30ms/step - loss: 0.1089\n",
      "Epoch 459/500\n",
      "7/7 [==============================] - 0s 31ms/step - loss: 0.1088\n",
      "Epoch 460/500\n",
      "7/7 [==============================] - 0s 32ms/step - loss: 0.1088\n",
      "Epoch 461/500\n",
      "7/7 [==============================] - 0s 30ms/step - loss: 0.1088\n",
      "Epoch 462/500\n",
      "7/7 [==============================] - 0s 32ms/step - loss: 0.1087\n",
      "Epoch 463/500\n",
      "7/7 [==============================] - 0s 31ms/step - loss: 0.1087\n",
      "Epoch 464/500\n",
      "7/7 [==============================] - 0s 29ms/step - loss: 0.1087\n",
      "Epoch 465/500\n",
      "7/7 [==============================] - 0s 29ms/step - loss: 0.1087\n",
      "Epoch 466/500\n",
      "7/7 [==============================] - 0s 30ms/step - loss: 0.1087\n",
      "Epoch 467/500\n",
      "7/7 [==============================] - 0s 31ms/step - loss: 0.1087\n",
      "Epoch 468/500\n",
      "7/7 [==============================] - 0s 31ms/step - loss: 0.1087\n",
      "Epoch 469/500\n",
      "7/7 [==============================] - 0s 30ms/step - loss: 0.1087\n",
      "Epoch 470/500\n",
      "7/7 [==============================] - 0s 32ms/step - loss: 0.1087\n",
      "Epoch 471/500\n",
      "7/7 [==============================] - 0s 30ms/step - loss: 0.1087\n",
      "Epoch 472/500\n",
      "7/7 [==============================] - 0s 31ms/step - loss: 0.1087\n",
      "Epoch 473/500\n",
      "7/7 [==============================] - 0s 30ms/step - loss: 0.1087\n",
      "Epoch 474/500\n",
      "7/7 [==============================] - 0s 33ms/step - loss: 0.1087\n",
      "Epoch 475/500\n",
      "7/7 [==============================] - 0s 31ms/step - loss: 0.1087\n",
      "Epoch 476/500\n",
      "7/7 [==============================] - 0s 31ms/step - loss: 0.1087\n",
      "Epoch 477/500\n",
      "7/7 [==============================] - 0s 30ms/step - loss: 0.1087\n",
      "Epoch 478/500\n",
      "7/7 [==============================] - 0s 31ms/step - loss: 0.1088\n",
      "Epoch 479/500\n",
      "7/7 [==============================] - 0s 31ms/step - loss: 0.1089\n",
      "Epoch 480/500\n",
      "7/7 [==============================] - 0s 31ms/step - loss: 0.1088\n",
      "Epoch 481/500\n",
      "7/7 [==============================] - 0s 43ms/step - loss: 0.1090\n",
      "Epoch 482/500\n",
      "7/7 [==============================] - 0s 35ms/step - loss: 0.1089\n",
      "Epoch 483/500\n",
      "7/7 [==============================] - 0s 42ms/step - loss: 0.1088\n",
      "Epoch 484/500\n",
      "7/7 [==============================] - 0s 40ms/step - loss: 0.1088\n",
      "Epoch 485/500\n",
      "7/7 [==============================] - 0s 40ms/step - loss: 0.1087\n",
      "Epoch 486/500\n",
      "7/7 [==============================] - 0s 39ms/step - loss: 0.1088\n",
      "Epoch 487/500\n",
      "7/7 [==============================] - 0s 36ms/step - loss: 0.1089\n",
      "Epoch 488/500\n",
      "7/7 [==============================] - 0s 42ms/step - loss: 0.1088\n",
      "Epoch 489/500\n",
      "7/7 [==============================] - 0s 46ms/step - loss: 0.1088\n",
      "Epoch 490/500\n",
      "7/7 [==============================] - 0s 43ms/step - loss: 0.1088\n",
      "Epoch 491/500\n",
      "7/7 [==============================] - 0s 42ms/step - loss: 0.1087\n",
      "Epoch 492/500\n",
      "7/7 [==============================] - 0s 39ms/step - loss: 0.1087\n",
      "Epoch 493/500\n",
      "7/7 [==============================] - 0s 38ms/step - loss: 0.1087\n",
      "Epoch 494/500\n",
      "7/7 [==============================] - 0s 40ms/step - loss: 0.1087\n",
      "Epoch 495/500\n",
      "7/7 [==============================] - 0s 45ms/step - loss: 0.1087\n",
      "Epoch 496/500\n",
      "7/7 [==============================] - 0s 42ms/step - loss: 0.1087\n",
      "Epoch 497/500\n",
      "7/7 [==============================] - 0s 41ms/step - loss: 0.1087\n",
      "Epoch 498/500\n",
      "7/7 [==============================] - 0s 41ms/step - loss: 0.1087\n",
      "Epoch 499/500\n",
      "7/7 [==============================] - 0s 46ms/step - loss: 0.1087\n",
      "Epoch 500/500\n",
      "7/7 [==============================] - 0s 41ms/step - loss: 0.1087\n"
     ]
    }
   ],
   "source": [
    "# Train the model\n",
    "epoches = 500\n",
    "history = model.fit(train_dataset, epochs=epoches)"
   ]
  },
  {
   "cell_type": "markdown",
   "metadata": {
    "id": "aldmXsZ7MHJR"
   },
   "source": [
    "### ploting the train loss"
   ]
  },
  {
   "cell_type": "code",
   "execution_count": null,
   "metadata": {
    "colab": {
     "base_uri": "https://localhost:8080/",
     "height": 430
    },
    "id": "ugQlGUaTPXXf",
    "outputId": "ec458941-fd88-45c2-f5e9-52ec424fe362"
   },
   "outputs": [
    {
     "data": {
      "image/png": "[encoded data removed]",
      "text/plain": [
       "<Figure size 640x480 with 1 Axes>"
      ]
     },
     "metadata": {},
     "output_type": "display_data"
    }
   ],
   "source": [
    "plot_loss(epoches, history.history['loss'], start=30)"
   ]
  },
  {
   "cell_type": "markdown",
   "metadata": {
    "id": "sv0ptKEwaoHM"
   },
   "source": [
    "# reconstruction"
   ]
  },
  {
   "cell_type": "code",
   "execution_count": null,
   "metadata": {
    "colab": {
     "base_uri": "https://localhost:8080/"
    },
    "id": "DB_j_P7dfJ5S",
    "outputId": "4963720e-155f-46b5-b1a8-75011c1e5b43"
   },
   "outputs": [
    {
     "name": "stdout",
     "output_type": "stream",
     "text": [
      "53/53 [==============================] - 0s 4ms/step\n"
     ]
    }
   ],
   "source": [
    "reconstructions = model.predict(train_series_sampled)\n",
    "train_loss = tf.keras.losses.mse(reconstructions, train_series_sampled)"
   ]
  },
  {
   "cell_type": "code",
   "execution_count": null,
   "metadata": {
    "colab": {
     "base_uri": "https://localhost:8080/",
     "height": 449
    },
    "id": "8xckh9QkueS6",
    "outputId": "febac03a-0da3-4e86-a0ad-35ce560cfb53"
   },
   "outputs": [
    {
     "data": {
      "image/png": "[encoded data removed]",
      "text/plain": [
       "<Figure size 640x480 with 1 Axes>"
      ]
     },
     "metadata": {},
     "output_type": "display_data"
    }
   ],
   "source": [
    "plt.hist(train_loss[None,:], bins=100)\n",
    "plt.xlabel(\"Train loss\")\n",
    "plt.ylabel(\"No of examples\")\n",
    "plt.show()"
   ]
  },
  {
   "cell_type": "markdown",
   "metadata": {
    "id": "mBtcu9lS6cpd"
   },
   "source": [
    "# Detect anomalies"
   ]
  },
  {
   "cell_type": "code",
   "execution_count": null,
   "metadata": {
    "colab": {
     "base_uri": "https://localhost:8080/"
    },
    "id": "lR5rn6nhJ29l",
    "outputId": "d1006dad-2535-47f7-af47-731f1a4fbaa8"
   },
   "outputs": [
    {
     "name": "stdout",
     "output_type": "stream",
     "text": [
      "Threshold:  0.1085576014990638\n"
     ]
    }
   ],
   "source": [
    "threshold = np.mean(train_loss)\n",
    "print(\"Threshold: \", threshold)"
   ]
  },
  {
   "cell_type": "code",
   "execution_count": null,
   "metadata": {
    "id": "t2fS1UfcpyEn"
   },
   "outputs": [],
   "source": [
    "prediction = detection(model, val_series_sampled, threshold)"
   ]
  },
  {
   "cell_type": "code",
   "execution_count": null,
   "metadata": {
    "colab": {
     "base_uri": "https://localhost:8080/"
    },
    "id": "b-r-1dLvsAOv",
    "outputId": "970dec58-b5ee-4f57-ed9c-a78fc64f57c3"
   },
   "outputs": [
    {
     "name": "stdout",
     "output_type": "stream",
     "text": [
      "Accuracy = 0.8703703703703703\n",
      "Precision = 0.9471544715447154\n",
      "Recall = 0.7845117845117845\n"
     ]
    }
   ],
   "source": [
    "print_stats(prediction, labels)"
   ]
  },
  {
   "cell_type": "markdown",
   "metadata": {
    "id": "z2urGXAt8pta"
   },
   "source": [
    "# distribution of reconstruction error for normal and abnormal data"
   ]
  },
  {
   "cell_type": "code",
   "execution_count": null,
   "metadata": {
    "colab": {
     "base_uri": "https://localhost:8080/",
     "height": 466
    },
    "id": "8MxxdL3Yz6nv",
    "outputId": "5efc4162-9dba-4a2b-8434-0cebd2ec0ec0"
   },
   "outputs": [
    {
     "name": "stdout",
     "output_type": "stream",
     "text": [
      "10/10 [==============================] - 0s 4ms/step\n"
     ]
    },
    {
     "data": {
      "image/png": "[encoded data removed]",
      "text/plain": [
       "<Figure size 640x480 with 1 Axes>"
      ]
     },
     "metadata": {},
     "output_type": "display_data"
    }
   ],
   "source": [
    "anomaly = val_series_sampled[labels == 1]\n",
    "\n",
    "anomaly_loss = tf.keras.losses.mse(model.predict(anomaly), anomaly)\n",
    "\n",
    "plt.hist(anomaly_loss[None,:], bins=50)\n",
    "plt.xlabel(\"loss\")\n",
    "plt.ylabel(\"No of examples\")\n",
    "plt.show()"
   ]
  },
  {
   "cell_type": "code",
   "execution_count": null,
   "metadata": {
    "colab": {
     "base_uri": "https://localhost:8080/",
     "height": 466
    },
    "id": "1Dkktb9L0Kyy",
    "outputId": "e9ad8a9c-d7e1-45eb-b2ae-dbefa236e09a"
   },
   "outputs": [
    {
     "name": "stdout",
     "output_type": "stream",
     "text": [
      "10/10 [==============================] - 0s 4ms/step\n"
     ]
    },
    {
     "data": {
      "image/png": "[encoded data removed]",
      "text/plain": [
       "<Figure size 640x480 with 1 Axes>"
      ]
     },
     "metadata": {},
     "output_type": "display_data"
    }
   ],
   "source": [
    "normal = val_series_sampled[labels == 0]\n",
    "\n",
    "normal_loss = tf.keras.losses.mse(model.predict(normal), normal)\n",
    "\n",
    "plt.hist(normal_loss[None,:], bins=50)\n",
    "plt.xlabel(\"loss\")\n",
    "plt.ylabel(\"No of examples\")\n",
    "plt.show()"
   ]
  }
 ],
 "metadata": {
  "accelerator": "GPU",
  "colab": {
   "gpuType": "T4",
   "provenance": []
  },
  "kernelspec": {
   "display_name": "Python 3 (ipykernel)",
   "language": "python",
   "name": "python3"
  },
  "language_info": {
   "codemirror_mode": {
    "name": "ipython",
    "version": 3
   },
   "file_extension": ".py",
   "mimetype": "text/x-python",
   "name": "python",
   "nbconvert_exporter": "python",
   "pygments_lexer": "ipython3",
   "version": "3.9.13"
  }
 },
 "nbformat": 4,
 "nbformat_minor": 4
}
